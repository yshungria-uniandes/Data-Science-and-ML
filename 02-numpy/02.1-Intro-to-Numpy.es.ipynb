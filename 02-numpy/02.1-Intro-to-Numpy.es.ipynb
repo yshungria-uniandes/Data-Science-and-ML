{
  "cells": [
    {
      "cell_type": "markdown",
      "metadata": {
        "id": "view-in-github",
        "colab_type": "text"
      },
      "source": [
        "<a href=\"https://colab.research.google.com/github/yshungria-uniandes/Data-Science-and-ML/blob/main/02-numpy/02.1-Intro-to-Numpy.es.ipynb\" target=\"_parent\"><img src=\"https://colab.research.google.com/assets/colab-badge.svg\" alt=\"Open In Colab\"/></a>"
      ]
    },
    {
      "cell_type": "markdown",
      "id": "bdfbcacc",
      "metadata": {
        "id": "bdfbcacc"
      },
      "source": [
        "![Logo de NumPy](https://github.com/4GeeksAcademy/machine-learning-prework/blob/main/02-numpy/assets/numpy_logo.png?raw=true)\n",
        "\n",
        "## Introducción a NumPy\n",
        "\n",
        "`NumPy` es un juego de palabras que significa **Python numérico** (*Numerical Python*). Es una librería de código abierto que se utiliza para llevar a cabo tareas matemáticas con altísima eficiencia. Además, introduce estructuras de datos como los arrays multidimensionales, que se pueden operar entre ellos a alto nivel, sin meterse mucho en el detalle.\n",
        "\n",
        "En concreto, las claves de esta librería son:\n",
        "\n",
        "- **Array multidimensionales**: Esta librería proporciona un objeto llamado `ndarray`, que permite almacenar y manipular grandes conjuntos de datos de forma eficiente. Los arrays pueden tener cualquier número de dimensiones.\n",
        "- **Operaciones Vectorizadas**: NumPy permite realizar operaciones matemáticas en arrays completos sin la necesidad de bucles explícitos en el código, lo que lo hace muy rápido y eficiente.\n",
        "- **Funciones matemáticas**: NumPy proporciona una amplia gama de funciones matemáticas para trabajar con arrays, incluyendo funciones trigonométricas, estadísticas, álgebra lineal, entre otras.\n",
        "- **Eficiencia**: Es mucho más rápido que la misma funcionalidad implementada directamente sobre Python nativo. Además, es muy flexible en términos de acceso y manipulación de elementos individuales o subconjuntos de arrays.\n",
        "\n",
        "NumPy es una biblioteca fundamental para el Machine Learning y la ciencia de los datos en Python. Proporciona una amplia gama de herramientas y funciones para trabajar eficientemente con datos numéricos en forma de arrays y matrices."
      ]
    },
    {
      "cell_type": "markdown",
      "id": "dc410026",
      "metadata": {
        "id": "dc410026"
      },
      "source": [
        "### Arrays\n",
        "\n",
        "Un **array** de NumPy es una estructura de datos que permite almacenar una colección de elementos, generalmente números, en una o más dimensiones.\n",
        "\n",
        "#### Array unidimensional\n",
        "\n",
        "Un array unidimensional (1D) de NumPy es una estructura de datos que contiene una secuencia de elementos en una única dimensión. Es similar a una lista en Python, pero con las ventajas de rendimiento y funcionalidad que ofrece NumPy.\n",
        "\n",
        "![Array de una dimensión](https://github.com/4GeeksAcademy/machine-learning-prework/blob/main/02-numpy/assets/1D.png?raw=true \"1D\")\n",
        "\n",
        "Un array 1D puede ser creado usando la función `array` de la librería con una lista de elementos como argumento. Por ejemplo:"
      ]
    },
    {
      "cell_type": "code",
      "execution_count": 1,
      "id": "d8a0686b",
      "metadata": {
        "colab": {
          "base_uri": "https://localhost:8080/"
        },
        "id": "d8a0686b",
        "outputId": "7b419ec2-a7fc-466e-846d-e39964d4c7d8"
      },
      "outputs": [
        {
          "output_type": "execute_result",
          "data": {
            "text/plain": [
              "array([1, 2, 3, 4, 5])"
            ]
          },
          "metadata": {},
          "execution_count": 1
        }
      ],
      "source": [
        "import numpy as np\n",
        "\n",
        "array = np.array([1, 2, 3, 4, 5])\n",
        "array"
      ]
    },
    {
      "cell_type": "markdown",
      "id": "e090f7a0",
      "metadata": {
        "id": "e090f7a0"
      },
      "source": [
        "Esto creará un array 1D con los elementos 1, 2, 3, 4 y 5. Los elementos del array deben ser del mismo tipo de datos. Si los elementos son de diferentes tipos, NumPy intentará convertirlos al mismo tipo si es posible.\n",
        "\n",
        "En un array 1D, podemos acceder a los elementos usando **índices** (*indexes*), modificarlos y realizar operaciones matemáticas en el array completo de forma eficiente. A continuación se muestran algunas operaciones que se pueden realizar utilizando el array anterior:"
      ]
    },
    {
      "cell_type": "code",
      "execution_count": 2,
      "id": "a56cb1b0",
      "metadata": {
        "colab": {
          "base_uri": "https://localhost:8080/"
        },
        "id": "a56cb1b0",
        "outputId": "61545965-bd05-4f36-993a-b1148f48f563"
      },
      "outputs": [
        {
          "output_type": "stream",
          "name": "stdout",
          "text": [
            "3\n",
            "[1 7 3 4 5]\n",
            "[11 17 13 14 15]\n",
            "70\n"
          ]
        }
      ],
      "source": [
        "# Acceder al tercer elemento\n",
        "print(array[2])\n",
        "\n",
        "# Cambiar el valor del segundo elemento\n",
        "array[1] = 7\n",
        "print(array)\n",
        "\n",
        "# Sumar 10 a todos los elementos\n",
        "array += 10\n",
        "print(array)\n",
        "\n",
        "# Calcular la suma de los elementos\n",
        "sum_all = np.sum(array)\n",
        "print(sum_all)"
      ]
    },
    {
      "cell_type": "markdown",
      "id": "322771b1",
      "metadata": {
        "id": "322771b1"
      },
      "source": [
        "#### Array N-dimensional\n",
        "\n",
        "Un array multidimensional o n-dimensional en NumPy es una estructura de datos que organiza elementos en múltiples dimensiones (ejes). Estos arrays permiten representar estructuras de datos más complejas, como matrices (array 2D, 2 ejes), tensores (array 3D, 3 ejes) y estructuras de mayor dimensión.\n",
        "\n",
        "![Arrays de diferentes dimensiones](https://github.com/4GeeksAcademy/machine-learning-prework/blob/main/02-numpy/assets/3D.png?raw=true \"3D\")\n",
        "\n",
        "Un array N-dimensional puede ser creado también usando la función `array` de la librería. Por ejemplo, si queremos crear un array 2D:"
      ]
    },
    {
      "cell_type": "code",
      "execution_count": 3,
      "id": "2033ba3c",
      "metadata": {
        "colab": {
          "base_uri": "https://localhost:8080/"
        },
        "id": "2033ba3c",
        "outputId": "e6c6b714-4493-43a7-ad17-618cf5dc5bb6"
      },
      "outputs": [
        {
          "output_type": "execute_result",
          "data": {
            "text/plain": [
              "array([[1, 2, 3],\n",
              "       [4, 5, 6],\n",
              "       [7, 8, 9]])"
            ]
          },
          "metadata": {},
          "execution_count": 3
        }
      ],
      "source": [
        "array_2d = np.array([[1, 2, 3], [4, 5, 6], [7, 8, 9]])\n",
        "array_2d"
      ]
    },
    {
      "cell_type": "markdown",
      "id": "d3dac6c2",
      "metadata": {
        "id": "d3dac6c2"
      },
      "source": [
        "Si ahora quisiéramos crear un array 3D, tendríamos que pensar en él como una lista de matrices:"
      ]
    },
    {
      "cell_type": "code",
      "execution_count": 4,
      "id": "bc914841",
      "metadata": {
        "colab": {
          "base_uri": "https://localhost:8080/"
        },
        "id": "bc914841",
        "outputId": "3261b866-10fe-4773-d741-8bdf3778f5a5"
      },
      "outputs": [
        {
          "output_type": "execute_result",
          "data": {
            "text/plain": [
              "array([[[1, 2],\n",
              "        [3, 4]],\n",
              "\n",
              "       [[5, 6],\n",
              "        [7, 8]]])"
            ]
          },
          "metadata": {},
          "execution_count": 4
        }
      ],
      "source": [
        "array_3d = np.array([[[1, 2], [3, 4]], [[5, 6], [7, 8]]])\n",
        "array_3d"
      ]
    },
    {
      "cell_type": "markdown",
      "id": "da7bcb64",
      "metadata": {
        "id": "da7bcb64"
      },
      "source": [
        "Al igual que sucedía con los arrays 1D, los elementos en un array multidimensional son accesibles mediante índices, se pueden realizar operaciones con ellos, etcétera.\n",
        "\n",
        "A medida que agregamos más dimensiones, el principio básico sigue siendo el mismo: cada dimensión adicional puede considerarse como un nivel adicional de anidamiento. Sin embargo, a nivel práctico, trabajar con arrays de más de 3 o 4 dimensiones puede volverse más complejo y menos intuitivo.\n",
        "\n",
        "Los arrays n-dimensionales en NumPy permiten una gran flexibilidad y potencia para representar y manipular datos en formas más complejas, especialmente útiles en campos como la ciencia de los datos, procesamiento de imágenes y aprendizaje profundo."
      ]
    },
    {
      "cell_type": "markdown",
      "id": "d699ac98",
      "metadata": {
        "id": "d699ac98"
      },
      "source": [
        "### Funciones\n",
        "\n",
        "NumPy proporciona una gran cantidad de funciones predefinidas y que se pueden aplicar directamente sobre las estructuras de datos vistas anteriormente o las propias de Python (listas, matrices, etcétera). Algunas de las más utilizadas en el análisis de datos son:"
      ]
    },
    {
      "cell_type": "code",
      "execution_count": 5,
      "id": "e7680306",
      "metadata": {
        "colab": {
          "base_uri": "https://localhost:8080/"
        },
        "id": "e7680306",
        "outputId": "f5ee4826-5bca-404b-c8e0-1bfa87c19434"
      },
      "outputs": [
        {
          "output_type": "stream",
          "name": "stdout",
          "text": [
            "Suma: [ 6  7  8  9 10]\n",
            "Producto: [ 3  6  9 12 15]\n",
            "Logaritmo natural: [0.         0.69314718 1.09861229 1.38629436 1.60943791]\n",
            "Exponencial: [  2.71828183   7.3890561   20.08553692  54.59815003 148.4131591 ]\n",
            "Media: 3.0\n",
            "Mediana: 3.0\n",
            "Desviación estándar: 1.4142135623730951\n",
            "Varianza: 2.0\n",
            "Máximo valor: 5\n",
            "Índice del máximo valor: 4\n",
            "Mínimo valor: 1\n",
            "Índice del mínimo valor: 0\n",
            "Suma de todos los elementos: 15\n",
            "Redondeo: [1. 2. 4. 5.]\n",
            "Entero menor (floor): [1. 2. 3. 4.]\n",
            "Entero mayor (ceil): [2. 3. 4. 5.]\n"
          ]
        }
      ],
      "source": [
        "import numpy as np\n",
        "\n",
        "# Crear un array para el ejemplo\n",
        "arr = np.array([1, 2, 3, 4, 5])\n",
        "\n",
        "# Operaciones Aritméticas\n",
        "print(\"Suma:\", np.add(arr, 5))\n",
        "print(\"Producto:\", np.multiply(arr, 3))\n",
        "\n",
        "# Logarítmicas y Exponenciales\n",
        "print(\"Logaritmo natural:\", np.log(arr))\n",
        "print(\"Exponencial:\", np.exp(arr))\n",
        "\n",
        "# Funciones Estadísticas\n",
        "print(\"Media:\", np.mean(arr))\n",
        "print(\"Mediana:\", np.median(arr))\n",
        "print(\"Desviación estándar:\", np.std(arr))\n",
        "print(\"Varianza:\", np.var(arr))\n",
        "print(\"Máximo valor:\", np.max(arr))\n",
        "print(\"Índice del máximo valor:\", np.argmax(arr))\n",
        "print(\"Mínimo valor:\", np.min(arr))\n",
        "print(\"Índice del mínimo valor:\", np.argmin(arr))\n",
        "print(\"Suma de todos los elementos:\", np.sum(arr))\n",
        "\n",
        "# Funciones de Redondeo\n",
        "arr_decimal = np.array([1.23, 2.47, 3.56, 4.89])\n",
        "print(\"Redondeo:\", np.around(arr_decimal))\n",
        "print(\"Entero menor (floor):\", np.floor(arr_decimal))\n",
        "print(\"Entero mayor (ceil):\", np.ceil(arr_decimal))"
      ]
    },
    {
      "cell_type": "markdown",
      "id": "51b5cda3",
      "metadata": {
        "id": "51b5cda3"
      },
      "source": [
        "## Ejercicios: Haz clic en \"open in colab\" para realizarlos\n",
        "\n",
        "> Solución: https://github.com/4GeeksAcademy/machine-learning-prework/blob/main/02-numpy/02.1-Intro-to-Numpy_solutions.ipynb\n",
        "\n",
        "### Creación de arrays"
      ]
    },
    {
      "cell_type": "markdown",
      "id": "e3c20b3d",
      "metadata": {
        "id": "e3c20b3d"
      },
      "source": [
        "#### Ejercicio 01:  Crea un **vector nulo** (*null vector*) que tenga 10 elementos (★☆☆)\n",
        "\n",
        "Un vector nulo es un array de una dimensión compuesto por ceros (`0`).\n",
        "\n",
        "> NOTA: Revisa la función `np.zeros` (https://numpy.org/doc/stable/reference/generated/numpy.zeros.html)"
      ]
    },
    {
      "cell_type": "code",
      "execution_count": 6,
      "id": "8a758bcf",
      "metadata": {
        "colab": {
          "base_uri": "https://localhost:8080/"
        },
        "id": "8a758bcf",
        "outputId": "c4440af5-87e8-4bc7-c767-adfa6d74c135"
      },
      "outputs": [
        {
          "output_type": "execute_result",
          "data": {
            "text/plain": [
              "array([0., 0., 0., 0., 0., 0., 0., 0., 0., 0.])"
            ]
          },
          "metadata": {},
          "execution_count": 6
        }
      ],
      "source": [
        "np.zeros(10)"
      ]
    },
    {
      "cell_type": "markdown",
      "id": "6cbe7954",
      "metadata": {
        "id": "6cbe7954"
      },
      "source": [
        "#### Ejercicio 02: Crea un vector de unos que tenga 10 elementos (★☆☆)\n",
        "\n",
        "> NOTA: Revisa la función `np.ones` (https://numpy.org/doc/stable/reference/generated/numpy.ones.html)"
      ]
    },
    {
      "cell_type": "code",
      "execution_count": 7,
      "id": "86477874",
      "metadata": {
        "colab": {
          "base_uri": "https://localhost:8080/"
        },
        "id": "86477874",
        "outputId": "a64866f1-1271-4238-8d35-c8e4031d03b1"
      },
      "outputs": [
        {
          "output_type": "execute_result",
          "data": {
            "text/plain": [
              "array([1., 1., 1., 1., 1., 1., 1., 1., 1., 1.])"
            ]
          },
          "metadata": {},
          "execution_count": 7
        }
      ],
      "source": [
        "np.ones(10)"
      ]
    },
    {
      "cell_type": "markdown",
      "id": "0a708990",
      "metadata": {
        "id": "0a708990"
      },
      "source": [
        "#### Ejercicio 03: Investiga la función `linspace` de NumPy y crea un array que contenga 10 elementos (★☆☆)\n",
        "\n",
        "> NOTA: Revisa la función `np.linspace` (https://numpy.org/doc/stable/reference/generated/numpy.linspace.html)"
      ]
    },
    {
      "cell_type": "code",
      "execution_count": 8,
      "id": "477e01f4",
      "metadata": {
        "colab": {
          "base_uri": "https://localhost:8080/"
        },
        "id": "477e01f4",
        "outputId": "0dcaee8f-3267-4122-86de-ea8006c715f0"
      },
      "outputs": [
        {
          "output_type": "execute_result",
          "data": {
            "text/plain": [
              "array([ 1.,  2.,  3.,  4.,  5.,  6.,  7.,  8.,  9., 10.])"
            ]
          },
          "metadata": {},
          "execution_count": 8
        }
      ],
      "source": [
        "np.linspace(1, 10, 10)"
      ]
    },
    {
      "cell_type": "markdown",
      "id": "9794fe71",
      "metadata": {
        "id": "9794fe71"
      },
      "source": [
        "#### Ejercicio 04: Busca varias formas de generar un array con números aleatorios y crea un array 1D y dos arrays 2D (★★☆)\n",
        "\n",
        "> NOTA: Revisa las funciones `np.random.rand` (https://numpy.org/doc/stable/reference/random/generated/numpy.random.rand.html), `np.random.randint` (https://numpy.org/doc/stable/reference/random/generated/numpy.random.randint.html) y `np.random.randn` (https://numpy.org/doc/stable/reference/random/generated/numpy.random.randn.html)"
      ]
    },
    {
      "cell_type": "code",
      "execution_count": 18,
      "id": "3d9a48a7",
      "metadata": {
        "colab": {
          "base_uri": "https://localhost:8080/"
        },
        "id": "3d9a48a7",
        "outputId": "a3390eaf-ebb2-4669-f2e6-ac557c385b2e"
      },
      "outputs": [
        {
          "output_type": "execute_result",
          "data": {
            "text/plain": [
              "array([[0.33490987, 0.04782556],\n",
              "       [0.71429949, 0.78216178],\n",
              "       [0.67646401, 0.74618436]])"
            ]
          },
          "metadata": {},
          "execution_count": 18
        }
      ],
      "source": [
        "'''\n",
        "La función np.random.rand() es una función de la biblioteca NumPy de Python que genera un número aleatorio a partir de una distribución uniforme continua entre 0 y 1.\n",
        "\n",
        "Cuando se llama a la función np.random.rand(), esta genera un número aleatorio entre 0 y 1, donde todos los valores dentro de este rango tienen la misma probabilidad de ser generados. Este número aleatorio puede ser utilizado en diversas aplicaciones, como la generación de datos aleatorios para pruebas estadísticas, la simulación de procesos estocásticos, entre otros.\n",
        "\n",
        "Es importante tener en cuenta que la función np.random.rand() genera un número aleatorio diferente cada vez que se llama, por lo que si se desea generar una secuencia de números aleatorios a partir de una distribución uniforme continua entre 0 y 1, se debe llamar a la función varias veces o utilizar otras funciones de la biblioteca NumPy que permitan generar una secuencia de números aleatorios a partir de esta distribución.\n",
        "\n",
        "Además, la función np.random.rand() no requiere de ningún argumento de entrada y siempre genera un número aleatorio con un valor decimal entre 0 y 1.\n",
        "'''\n",
        "np.random.rand(3, 2)"
      ]
    },
    {
      "cell_type": "code",
      "source": [
        "'''\n",
        "La función np.random.randint de la biblioteca NumPy de Python genera un arreglo de números enteros aleatorios entre dos valores especificados.\n",
        "\n",
        "La sintaxis de la función np.random.randint es la siguiente:\n",
        "\n",
        "np.random.randint(low, high=None, size=None, dtype=int)\n",
        "'''\n",
        "random_number =np.random.randint(1, 10)\n",
        "random_number\n",
        "\n",
        "#Generate a 2 x 4 array of ints between 0 and 4, inclusive:\n",
        "np.random.randint(5, size=(2, 4))"
      ],
      "metadata": {
        "colab": {
          "base_uri": "https://localhost:8080/"
        },
        "id": "cTttIDBOzIM3",
        "outputId": "b5dca3ac-ccfa-4404-c44a-2e8c3986601c"
      },
      "id": "cTttIDBOzIM3",
      "execution_count": 32,
      "outputs": [
        {
          "output_type": "execute_result",
          "data": {
            "text/plain": [
              "array([[3, 2, 2, 0],\n",
              "       [0, 0, 4, 1]])"
            ]
          },
          "metadata": {},
          "execution_count": 32
        }
      ]
    },
    {
      "cell_type": "code",
      "source": [
        "'''\n",
        "La función np.random.randn() es una función de la biblioteca NumPy de Python que genera un número aleatorio a partir de una distribución normal estándar, también conocida como distribución gaussiana.\n",
        "Cuando se llama a la función np.random.randn(), esta genera un número aleatorio a partir de la distribución normal estándar, con una media de cero y una desviación estándar de uno. Este número aleatorio puede ser utilizado en diversas aplicaciones, como la generación de datos aleatorios para pruebas estadísticas, la simulación de procesos estocásticos, entre otros.\n",
        "'''\n",
        "matriz = np.random.randn(2, 4)\n",
        "print(matriz)\n",
        "desviacion_estandar = np.std(matriz)\n",
        "\n",
        "print(desviacion_estandar)\n"
      ],
      "metadata": {
        "colab": {
          "base_uri": "https://localhost:8080/"
        },
        "id": "NVDDDLVKy-Re",
        "outputId": "c38531db-f63c-4bc7-b673-d9b0889eeab4"
      },
      "id": "NVDDDLVKy-Re",
      "execution_count": 23,
      "outputs": [
        {
          "output_type": "stream",
          "name": "stdout",
          "text": [
            "[[-0.90484449  0.80593589 -1.1590064  -2.2548755 ]\n",
            " [-0.29397742  0.1582738   0.46416648  0.16008977]]\n",
            "0.9424261432547673\n"
          ]
        }
      ]
    },
    {
      "cell_type": "markdown",
      "id": "78a37e5c",
      "metadata": {
        "id": "78a37e5c"
      },
      "source": [
        "#### Ejercicio 05: Crea una matriz (array 2D) identidad de 5x5 (★☆☆)\n",
        "\n",
        "\n",
        "> NOTA: Revisa la función `np.eye`(https://numpy.org/devdocs/reference/generated/numpy.eye.html)"
      ]
    },
    {
      "cell_type": "code",
      "execution_count": 24,
      "id": "a6751106",
      "metadata": {
        "colab": {
          "base_uri": "https://localhost:8080/"
        },
        "id": "a6751106",
        "outputId": "acaedcab-0b3a-4b70-ca30-40d255c50da0"
      },
      "outputs": [
        {
          "output_type": "execute_result",
          "data": {
            "text/plain": [
              "array([[1., 0., 0., 0., 0.],\n",
              "       [0., 1., 0., 0., 0.],\n",
              "       [0., 0., 1., 0., 0.],\n",
              "       [0., 0., 0., 1., 0.],\n",
              "       [0., 0., 0., 0., 1.]])"
            ]
          },
          "metadata": {},
          "execution_count": 24
        }
      ],
      "source": [
        "np.eye(5)"
      ]
    },
    {
      "cell_type": "markdown",
      "id": "08bb63e6",
      "metadata": {
        "id": "08bb63e6"
      },
      "source": [
        "#### Ejercicio 06: Crea una matriz con números aleatorios de 3x2 y calcula el valor mínimo y máximo (★☆☆)\n",
        "\n",
        "> NOTA: Revisa la función `np.min` (https://numpy.org/devdocs/reference/generated/numpy.min.html) y `np.max` (https://numpy.org/devdocs/reference/generated/numpy.max.html)"
      ]
    },
    {
      "cell_type": "code",
      "execution_count": null,
      "id": "3214cca1",
      "metadata": {
        "id": "3214cca1"
      },
      "outputs": [],
      "source": [
        "import numpy as np\n",
        "\n",
        "# Creamos una matriz de 3x2 con números aleatorios entre 0 y 10\n",
        "matriz = np.random.randint(10, size=(3, 2))\n",
        "\n",
        "# Calculamos el valor mínimo y máximo de la matriz\n",
        "minimo = np.min(matriz)\n",
        "maximo = np.max(matriz)\n",
        "\n",
        "# Mostramos la matriz y los valores mínimo y máximo\n",
        "print(\"Matriz:\")\n",
        "print(matriz)\n",
        "print(\"Valor mínimo:\", minimo)\n",
        "print(\"Valor máximo:\", maximo)"
      ]
    },
    {
      "cell_type": "markdown",
      "id": "57c6c275",
      "metadata": {
        "id": "57c6c275"
      },
      "source": [
        "#### Ejercicio 07: Crea un vector con números aleatorios de 30 elementos y calcula la media (★☆☆)\n",
        "\n",
        "> NOTA: Revisa la función `np.mean` (https://numpy.org/doc/stable/reference/generated/numpy.mean.html)"
      ]
    },
    {
      "cell_type": "code",
      "execution_count": 39,
      "id": "cc960ba5",
      "metadata": {
        "colab": {
          "base_uri": "https://localhost:8080/"
        },
        "id": "cc960ba5",
        "outputId": "f63b7bce-9325-4a3b-ac6d-bfcc3c2b2217"
      },
      "outputs": [
        {
          "output_type": "stream",
          "name": "stdout",
          "text": [
            "Vector:\n",
            "[0.73568833 0.69030798 0.63156242 0.07950915 0.73659375 0.25466859\n",
            " 0.8720968  0.16010559 0.11613946 0.23430275 0.44825447 0.14558795\n",
            " 0.62055891 0.85752564 0.28311184 0.74570225 0.46267085 0.00408298\n",
            " 0.47567618 0.12521683 0.49683735 0.96053895 0.96477877 0.56753891\n",
            " 0.47574442 0.84387245 0.18613942 0.35968276 0.12326197 0.54400415]\n",
            "Media: 0.47339206193533007\n"
          ]
        }
      ],
      "source": [
        "# import numpy as np\n",
        "\n",
        "# Creamos un vector de 30 elementos con números aleatorios entre 0 y 1\n",
        "vector = np.random.rand(30)\n",
        "\n",
        "# Calculamos la media del vector\n",
        "# La media es una medida estadística que representa el valor promedio de un conjunto de datos. También se conoce como promedio o media aritmética.\n",
        "media = np.mean(vector)\n",
        "\n",
        "# Mostramos el vector y la media\n",
        "print(\"Vector:\")\n",
        "print(vector)\n",
        "print(\"Media:\", media)"
      ]
    },
    {
      "cell_type": "markdown",
      "id": "2c801667",
      "metadata": {
        "id": "2c801667"
      },
      "source": [
        "#### Ejercicio 08: Convierte la lista `[1, 2, 3]` y la tupla `(1, 2, 3)` en arrays (★☆☆)"
      ]
    },
    {
      "cell_type": "code",
      "execution_count": 40,
      "id": "3f36c71c",
      "metadata": {
        "colab": {
          "base_uri": "https://localhost:8080/"
        },
        "id": "3f36c71c",
        "outputId": "a5db5807-5b67-4d0a-9c4a-b285898f5a5b"
      },
      "outputs": [
        {
          "output_type": "stream",
          "name": "stdout",
          "text": [
            "Array de lista: [1 2 3]\n",
            "Array de tupla: [1 2 3]\n"
          ]
        }
      ],
      "source": [
        "# Convertimos la lista en un array\n",
        "lista = [1, 2, 3]\n",
        "array_lista = np.array(lista)\n",
        "\n",
        "# Convertimos la tupla en un array\n",
        "tupla = (1, 2, 3)\n",
        "array_tupla = np.array(tupla)\n",
        "\n",
        "# Mostramos los arrays\n",
        "print(\"Array de lista:\", array_lista)\n",
        "print(\"Array de tupla:\", array_tupla)"
      ]
    },
    {
      "cell_type": "markdown",
      "id": "962bb9fc",
      "metadata": {
        "id": "962bb9fc"
      },
      "source": [
        "### Operaciones entre arrays"
      ]
    },
    {
      "cell_type": "markdown",
      "id": "48d48f01",
      "metadata": {
        "id": "48d48f01"
      },
      "source": [
        "#### Ejercicio 09: Invierte el vector del ejercicio anterior (★☆☆)\n",
        "\n",
        "> NOTA: Revisa la función `np.flip` (https://numpy.org/doc/stable/reference/generated/numpy.flip.html)"
      ]
    },
    {
      "cell_type": "code",
      "execution_count": 41,
      "id": "d3e13052",
      "metadata": {
        "colab": {
          "base_uri": "https://localhost:8080/"
        },
        "id": "d3e13052",
        "outputId": "88d74dbc-134c-415e-dd4c-38e008f7e6c3"
      },
      "outputs": [
        {
          "output_type": "execute_result",
          "data": {
            "text/plain": [
              "array([3, 2, 1])"
            ]
          },
          "metadata": {},
          "execution_count": 41
        }
      ],
      "source": [
        "tupla = (1, 2, 3)\n",
        "array_tupla = np.array(tupla)\n",
        "np.flip(array_tupla )"
      ]
    },
    {
      "cell_type": "markdown",
      "id": "233addce",
      "metadata": {
        "id": "233addce"
      },
      "source": [
        "#### Ejercicio 10: Cambia el tamaño de un array aleatorio de dimensiones 5x12 en 12x5 (★☆☆)\n",
        "\n",
        "> NOTA: Revisa la función `np.reshape` (https://numpy.org/doc/stable/reference/generated/numpy.reshape.html)"
      ]
    },
    {
      "cell_type": "code",
      "execution_count": 42,
      "id": "bfaed09f",
      "metadata": {
        "colab": {
          "base_uri": "https://localhost:8080/"
        },
        "id": "bfaed09f",
        "outputId": "8a1614d3-1ef8-4ef9-d9ad-c55fec25548d"
      },
      "outputs": [
        {
          "output_type": "stream",
          "name": "stdout",
          "text": [
            "Array original 5x12:\n",
            "[[0.56014543 0.25233509 0.72103638 0.75938168 0.39954436 0.44022191\n",
            "  0.29005737 0.95188352 0.07359563 0.72654283 0.2476205  0.86372694]\n",
            " [0.08566877 0.33364915 0.73814784 0.36232924 0.07026539 0.69984769\n",
            "  0.29309671 0.10776046 0.65018184 0.96501023 0.47436069 0.11964662]\n",
            " [0.59248197 0.42305405 0.72836197 0.58966095 0.82482323 0.45155765\n",
            "  0.30059911 0.34384115 0.56905687 0.53803665 0.39093044 0.01461734]\n",
            " [0.7763945  0.44948782 0.21694139 0.4306     0.80280204 0.41078323\n",
            "  0.45097654 0.99882196 0.33385661 0.97023292 0.61884506 0.90897316]\n",
            " [0.19628013 0.18011215 0.51676208 0.47723578 0.86386099 0.1142222\n",
            "  0.91025545 0.9195585  0.94758936 0.04331003 0.63061789 0.58863495]]\n",
            "\n",
            "Array nuevo 12x5:\n",
            "[[0.56014543 0.25233509 0.72103638 0.75938168 0.39954436]\n",
            " [0.44022191 0.29005737 0.95188352 0.07359563 0.72654283]\n",
            " [0.2476205  0.86372694 0.08566877 0.33364915 0.73814784]\n",
            " [0.36232924 0.07026539 0.69984769 0.29309671 0.10776046]\n",
            " [0.65018184 0.96501023 0.47436069 0.11964662 0.59248197]\n",
            " [0.42305405 0.72836197 0.58966095 0.82482323 0.45155765]\n",
            " [0.30059911 0.34384115 0.56905687 0.53803665 0.39093044]\n",
            " [0.01461734 0.7763945  0.44948782 0.21694139 0.4306    ]\n",
            " [0.80280204 0.41078323 0.45097654 0.99882196 0.33385661]\n",
            " [0.97023292 0.61884506 0.90897316 0.19628013 0.18011215]\n",
            " [0.51676208 0.47723578 0.86386099 0.1142222  0.91025545]\n",
            " [0.9195585  0.94758936 0.04331003 0.63061789 0.58863495]]\n"
          ]
        }
      ],
      "source": [
        "#import numpy as np\n",
        "\n",
        "# Creamos un array aleatorio de dimensiones 5x12\n",
        "array_5x12 = np.random.rand(5, 12)\n",
        "\n",
        "# Cambiamos el tamaño del array a 12x5\n",
        "array_12x5 = np.reshape(array_5x12, (12, 5))\n",
        "\n",
        "# Mostramos los arrays\n",
        "print(\"Array original 5x12:\")\n",
        "print(array_5x12)\n",
        "print(\"\\nArray nuevo 12x5:\")\n",
        "print(array_12x5)"
      ]
    },
    {
      "cell_type": "markdown",
      "id": "645e5381",
      "metadata": {
        "id": "645e5381"
      },
      "source": [
        "#### Ejercicio 11: Convierte la lista `[1, 2, 0, 0, 4, 0]` en un array y obtén el índice de los elementos que no son cero (★★☆)\n",
        "\n",
        "> NOTA: Revisa la función `np.where` (https://numpy.org/devdocs/reference/generated/numpy.where.html)"
      ]
    },
    {
      "cell_type": "code",
      "execution_count": 45,
      "id": "b2652fee",
      "metadata": {
        "colab": {
          "base_uri": "https://localhost:8080/"
        },
        "id": "b2652fee",
        "outputId": "0d9ad984-f772-45d9-ce81-083b03fbeef7"
      },
      "outputs": [
        {
          "output_type": "stream",
          "name": "stdout",
          "text": [
            "Índices de los elementos que no son cero: [0 1 4]\n"
          ]
        }
      ],
      "source": [
        "#import numpy as np\n",
        "\n",
        "# Convertimos la lista en un array\n",
        "lista = [1, 2, 0, 0, 4, 0]\n",
        "array = np.array(lista)\n",
        "\n",
        "# Obtenemos los índices de los elementos que no son cero\n",
        "indices = np.where(array != 0)\n",
        "\n",
        "# Mostramos los índices\n",
        "print(\"Índices de los elementos que no son cero:\", indices[0])\n"
      ]
    },
    {
      "cell_type": "markdown",
      "id": "e7948dbb",
      "metadata": {
        "id": "e7948dbb"
      },
      "source": [
        "#### Ejercicio 12: Convierte la lista `[0, 5, -1, 3, 15]` en un array, multiplica sus valores por `-2` y obtén los elementos pares (★★☆)"
      ]
    },
    {
      "cell_type": "code",
      "execution_count": 46,
      "metadata": {
        "colab": {
          "base_uri": "https://localhost:8080/"
        },
        "id": "f_fyC-jNvlTo",
        "outputId": "c546a228-8a52-46db-af5e-a322ccb658a1"
      },
      "outputs": [
        {
          "output_type": "stream",
          "name": "stdout",
          "text": [
            "Elementos pares: [  0 -10   2  -6 -30]\n"
          ]
        }
      ],
      "source": [
        "#import numpy as np\n",
        "\n",
        "# Convertimos la lista en un array\n",
        "lista = [0, 5, -1, 3, 15]\n",
        "array = np.array(lista)\n",
        "\n",
        "# Multiplicamos los valores del array por -2\n",
        "array = array * -2\n",
        "\n",
        "# Obtenemos los índices de los elementos pares\n",
        "indices_pares = np.where(array % 2 == 0)\n",
        "\n",
        "# Extraemos los elementos pares del array\n",
        "elementos_pares = array[indices_pares]\n",
        "\n",
        "# Mostramos los elementos pares\n",
        "print(\"Elementos pares:\", elementos_pares)"
      ],
      "id": "f_fyC-jNvlTo"
    },
    {
      "cell_type": "markdown",
      "id": "a90d6f3e",
      "metadata": {
        "id": "a90d6f3e"
      },
      "source": [
        "#### Ejercicio 13: Crea un vector aleatorio de 10 elementos y ordénalo de menor a mayor (★★☆)\n",
        "\n",
        "> NOTA: Revisa la función `np.sort` (https://numpy.org/doc/stable/reference/generated/numpy.sort.html)"
      ]
    },
    {
      "cell_type": "code",
      "execution_count": 47,
      "id": "bc373a83",
      "metadata": {
        "colab": {
          "base_uri": "https://localhost:8080/"
        },
        "id": "bc373a83",
        "outputId": "35750d8e-cfb7-4e8c-a5d3-f97fb66de171"
      },
      "outputs": [
        {
          "output_type": "stream",
          "name": "stdout",
          "text": [
            "Vector ordenado: [0.00488892 0.29616144 0.35773269 0.37563678 0.49364698 0.65131983\n",
            " 0.6993653  0.77629984 0.8381864  0.9164491 ]\n"
          ]
        }
      ],
      "source": [
        "#import numpy as np\n",
        "\n",
        "# Creamos un vector aleatorio de 10 elementos\n",
        "vector = np.random.rand(10)\n",
        "\n",
        "# Ordenamos el vector de menor a mayor\n",
        "vector_ordenado = np.sort(vector)\n",
        "\n",
        "# Mostramos el vector ordenado\n",
        "print(\"Vector ordenado:\", vector_ordenado)"
      ]
    },
    {
      "cell_type": "markdown",
      "id": "5e9b6115",
      "metadata": {
        "id": "5e9b6115"
      },
      "source": [
        "#### Ejercicio 14: Genera dos vectores aleatorios de 8 elementos y aplica las operaciones de suma, resta y multiplicación entre ellos (★★☆)\n",
        "\n",
        "> NOTA: Revisa las funciones matemáticas: https://numpy.org/doc/stable/reference/routines.math.html"
      ]
    },
    {
      "cell_type": "code",
      "execution_count": 49,
      "id": "cc77e421",
      "metadata": {
        "colab": {
          "base_uri": "https://localhost:8080/"
        },
        "id": "cc77e421",
        "outputId": "25edf19b-a029-4f43-802f-bed9a407eff2"
      },
      "outputs": [
        {
          "output_type": "stream",
          "name": "stdout",
          "text": [
            "Vector 1: [0.54613704 0.87947877 0.45346902 0.63661461 0.28569872 0.04937928\n",
            " 0.41764492 0.88407544]\n",
            "Vector 2: [0.06737265 0.57459917 0.7151811  0.06131804 0.02777632 0.40085444\n",
            " 0.9018194  0.37330182]\n",
            "Suma: [0.61350969 1.45407794 1.16865013 0.69793266 0.31347504 0.45023372\n",
            " 1.31946431 1.25737726]\n",
            "Resta: [ 0.4787644   0.3048796  -0.26171208  0.57529657  0.2579224  -0.35147516\n",
            " -0.48417448  0.51077362]\n",
            "Multiplicación: [0.0367947  0.50534777 0.32431247 0.03903596 0.00793566 0.0197939\n",
            " 0.37664029 0.33002697]\n"
          ]
        }
      ],
      "source": [
        "#import numpy as np\n",
        "\n",
        "# Creamos dos vectores aleatorios de 8 elementos\n",
        "vector1 = np.random.rand(8)\n",
        "vector2 = np.random.rand(8)\n",
        "\n",
        "# Aplicamos las operaciones de suma, resta y multiplicación elemento a elemento\n",
        "suma = vector1 + vector2\n",
        "resta = vector1 - vector2\n",
        "multiplicacion = vector1 * vector2\n",
        "\n",
        "# Mostramos los resultados\n",
        "print(\"Vector 1:\", vector1)\n",
        "print(\"Vector 2:\", vector2)\n",
        "print(\"Suma:\", suma)\n",
        "print(\"Resta:\", resta)\n",
        "print(\"Multiplicación:\", multiplicacion)"
      ]
    },
    {
      "cell_type": "markdown",
      "id": "c8e8daa0",
      "metadata": {
        "id": "c8e8daa0"
      },
      "source": [
        "#### Ejercicio 15: Convierte la lista `[1, 2, 3, 4, 5, 6, 7, 8, 9, 10, 11, 12]` en un array y transfórmalo en una matriz con filas de 3 columnas (★★★)"
      ]
    },
    {
      "cell_type": "code",
      "execution_count": 50,
      "metadata": {
        "colab": {
          "base_uri": "https://localhost:8080/"
        },
        "id": "jazyhXwdvlTp",
        "outputId": "ce4b2db6-c93f-4cbd-d2f5-1ca5fe7c64ce"
      },
      "outputs": [
        {
          "output_type": "stream",
          "name": "stdout",
          "text": [
            "Matriz: [[ 1  2  3]\n",
            " [ 4  5  6]\n",
            " [ 7  8  9]\n",
            " [10 11 12]]\n"
          ]
        }
      ],
      "source": [
        "#import numpy as np\n",
        "\n",
        "# Convertimos la lista en un array\n",
        "lista = [1, 2, 3, 4, 5, 6, 7, 8, 9, 10, 11, 12]\n",
        "array = np.array(lista)\n",
        "\n",
        "# Transformamos el array en una matriz con filas de 3 columnas\n",
        "matriz = np.reshape(array, (4, 3))\n",
        "\n",
        "# Mostramos la matriz\n",
        "print(\"Matriz:\", matriz)"
      ],
      "id": "jazyhXwdvlTp"
    }
  ],
  "metadata": {
    "kernelspec": {
      "display_name": "Python 3",
      "language": "python",
      "name": "python3"
    },
    "language_info": {
      "codemirror_mode": {
        "name": "ipython",
        "version": 3
      },
      "file_extension": ".py",
      "mimetype": "text/x-python",
      "name": "python",
      "nbconvert_exporter": "python",
      "pygments_lexer": "ipython3",
      "version": "3.11.4"
    },
    "colab": {
      "provenance": [],
      "include_colab_link": true
    }
  },
  "nbformat": 4,
  "nbformat_minor": 5
}